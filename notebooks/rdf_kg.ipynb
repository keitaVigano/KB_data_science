{
 "cells": [
  {
   "cell_type": "code",
   "execution_count": 3,
   "metadata": {},
   "outputs": [
    {
     "data": {
      "text/plain": [
       "'@prefix ds: <http://example.org/ds#> .\\n@prefix xsd: <http://www.w3.org/2001/XMLSchema#> .\\n\\n<http://example.org/ds/0000-0001-5186-0199> a ds:Author ;\\n    ds:fullName \"Gabriele Gianini\" ;\\n    ds:hasHIndex 32.0 ;\\n    ds:hasORCID \"0000-0001-5186-0199\" ;\\n    ds:hasOpenAlexID \"https://openalex.org/A5037738148\" ;\\n    ds:hasSSD \"INF/01\" ;\\n    ds:hasTopic \"[\\'Particle physics theoretical and experimental studies\\', \\'Quantum Chromodynamics and Particle Interactions\\', \\'High-Energy Particle Collisions Research\\', \\'Particle Detector Development and Performance\\', \\'Radiation Detection and Scintillator Technologies\\', \\'Image Enhancement Techniques\\', \\'Neutrino Physics Research\\', \\'Peer-to-Peer Network Technologies\\', \\'Superconducting Materials and Applications\\', \\'Mobile Ad Hoc Networks\\', \\'Opportunistic and Delay-Tolerant Networks\\', \\'CCD and CMOS Imaging Sensors\\', \\'Energy Efficient Wireless Sensor Networks\\', \\'Atomic and Subatomic Physics Research\\', \\'Particle Accelerators and Free-Electron Lasers\\', \\'Color Science and Applications\\', \\'Business Process Modeling and Analysis\\', \\'Visual perception and processing mechanisms\\', \\'Privacy-Preserving Technologies in Data\\', \\'Network Security and Intrusion Detection\\', \\'Dark Matter and Cosmic Phenomena\\', \\'Software Engineering Research\\', \\'Cryptography and Data Security\\', \\'Anomaly Detection Techniques and Applications\\', \\'Black Holes and Theoretical Physics\\']\" ;\\n    ds:teaches <http://example.org/ds/Green_Computing> .\\n\\n<http://example.org/ds/0000-0001-5584-3089> a ds:Author ;\\n    ds:fullName \"Gianluca Della Vedova\" ;\\n    ds:hasHIndex 22.0 ;\\n    ds:hasORCID \"0000-0001-5584-3089\" ;\\n    ds:hasOpenAlexID \"https://openalex.org/A5059679442\" ;\\n    ds:hasSSD \"INF/01\" ;\\n    ds:hasTopic \"[\\'Genomics and Phylogenetic Studies\\', \\'Algorithms and Data Compression\\', \\'RNA and protein synthesis mechanisms\\', \\'Cancer Genomics and Diagnostics\\', \\'Gene expression and cancer classification\\', \\'Genome Rearrangement Algorithms\\', \\'RNA Research and Splicing\\', \\'Bioinformatics and Genomic '"
      ]
     },
     "execution_count": 3,
     "metadata": {},
     "output_type": "execute_result"
    }
   ],
   "source": [
    "import pandas as pd\n",
    "from rdflib import Graph, Namespace, URIRef, Literal\n",
    "from rdflib.namespace import RDF, RDFS, XSD\n",
    "\n",
    "\n",
    "df_authors = pd.read_csv('../data/authors/authors_internal_prova.csv')\n",
    "df_courses = pd.read_csv('../data/courses/courses.csv')\n",
    "# Define namespace\n",
    "DS = Namespace(\"http://example.org/ds#\")\n",
    "g = Graph()\n",
    "g.bind(\"ds\", DS)\n",
    "\n",
    "# Add authors and their properties\n",
    "for _, row in df_authors.iterrows():\n",
    "    author_uri = URIRef(f\"http://example.org/ds/{row['orcid']}\")\n",
    "    course_uri = URIRef(f\"http://example.org/ds/{row['Course'].replace(' ', '_')}\")\n",
    "    \n",
    "    g.add((author_uri, RDF.type, DS.Author))\n",
    "    g.add((author_uri, DS.hasORCID, Literal(row['orcid'])))\n",
    "    g.add((author_uri, DS.fullName, Literal(f\"{row['Name']} {row['Last name']}\")))\n",
    "    g.add((author_uri, DS.hasSSD, Literal(row['SSD'])))\n",
    "    g.add((author_uri, DS.hasHIndex, Literal(row['hindex'], datatype=XSD.integer)))\n",
    "    g.add((author_uri, DS.hasOpenAlexID, Literal(row['openalex id'])))\n",
    "    g.add((author_uri, DS.teaches, course_uri))\n",
    "    g.add((author_uri, DS.hasTopic, Literal(row['topics'])))\n",
    "\n",
    "# Add courses (aggregated by name)\n",
    "unique_courses = df_courses[\"Course\"].unique()\n",
    "for course in unique_courses:\n",
    "    course_uri = URIRef(f\"http://example.org/ds/{course.replace(' ', '_')}\")\n",
    "    g.add((course_uri, RDF.type, DS.Course))\n",
    "    g.add((course_uri, DS.courseName, Literal(course)))\n",
    "\n",
    "# Serialize to Turtle format\n",
    "ttl_output = g.serialize(format=\"turtle\")\n",
    "ttl_output[:2000]  # Show a sample of the RDF output\n"
   ]
  },
  {
   "cell_type": "code",
   "execution_count": 2,
   "metadata": {},
   "outputs": [
    {
     "name": "stdout",
     "output_type": "stream",
     "text": [
      "Collecting rdflib\n",
      "  Downloading rdflib-7.1.4-py3-none-any.whl.metadata (11 kB)\n",
      "Requirement already satisfied: pyparsing<4,>=2.1.0 in /opt/anaconda3/lib/python3.12/site-packages (from rdflib) (3.0.9)\n",
      "Downloading rdflib-7.1.4-py3-none-any.whl (565 kB)\n",
      "\u001b[2K   \u001b[90m━━━━━━━━━━━━━━━━━━━━━━━━━━━━━━━━━━━━━━━━\u001b[0m \u001b[32m565.1/565.1 kB\u001b[0m \u001b[31m5.2 MB/s\u001b[0m eta \u001b[36m0:00:00\u001b[0ma \u001b[36m0:00:01\u001b[0m\n",
      "\u001b[?25hInstalling collected packages: rdflib\n",
      "Successfully installed rdflib-7.1.4\n",
      "Note: you may need to restart the kernel to use updated packages.\n"
     ]
    }
   ],
   "source": [
    "pip install rdflib"
   ]
  },
  {
   "cell_type": "code",
   "execution_count": 5,
   "metadata": {},
   "outputs": [
    {
     "data": {
      "text/plain": [
       "'../data/knowledge_base.ttl'"
      ]
     },
     "execution_count": 5,
     "metadata": {},
     "output_type": "execute_result"
    }
   ],
   "source": [
    "ttl_path = \"../data/knowledge_base.ttl\"\n",
    "g.serialize(destination=ttl_path, format=\"turtle\")\n",
    "\n",
    "ttl_path"
   ]
  }
 ],
 "metadata": {
  "kernelspec": {
   "display_name": "base",
   "language": "python",
   "name": "python3"
  },
  "language_info": {
   "codemirror_mode": {
    "name": "ipython",
    "version": 3
   },
   "file_extension": ".py",
   "mimetype": "text/x-python",
   "name": "python",
   "nbconvert_exporter": "python",
   "pygments_lexer": "ipython3",
   "version": "3.12.2"
  }
 },
 "nbformat": 4,
 "nbformat_minor": 2
}
